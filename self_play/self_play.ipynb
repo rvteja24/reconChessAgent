{
 "cells": [
  {
   "cell_type": "code",
   "execution_count": 4,
   "metadata": {},
   "outputs": [
    {
     "name": "stdout",
     "output_type": "stream",
     "text": [
      "Collecting reconchess\n",
      "  Using cached reconchess-1.6.8-py3-none-any.whl (63 kB)\n",
      "Collecting python-chess>=0.31.0\n",
      "  Using cached python_chess-1.999-py3-none-any.whl (1.4 kB)\n",
      "Requirement already satisfied: lxml in c:\\programdata\\anaconda3\\lib\\site-packages (from reconchess) (4.6.1)\n",
      "Collecting pygame\n",
      "  Downloading pygame-2.0.1-cp38-cp38-win_amd64.whl (5.2 MB)\n",
      "Requirement already satisfied: requests in c:\\programdata\\anaconda3\\lib\\site-packages (from reconchess) (2.24.0)\n",
      "Requirement already satisfied: chess<2,>=1 in c:\\programdata\\anaconda3\\lib\\site-packages (from python-chess>=0.31.0->reconchess) (1.6.1)\n",
      "Requirement already satisfied: certifi>=2017.4.17 in c:\\programdata\\anaconda3\\lib\\site-packages (from requests->reconchess) (2020.6.20)\n",
      "Requirement already satisfied: urllib3!=1.25.0,!=1.25.1,<1.26,>=1.21.1 in c:\\programdata\\anaconda3\\lib\\site-packages (from requests->reconchess) (1.25.11)\n",
      "Requirement already satisfied: idna<3,>=2.5 in c:\\programdata\\anaconda3\\lib\\site-packages (from requests->reconchess) (2.10)\n",
      "Requirement already satisfied: chardet<4,>=3.0.2 in c:\\programdata\\anaconda3\\lib\\site-packages (from requests->reconchess) (3.0.4)\n",
      "Installing collected packages: python-chess, pygame, reconchess\n",
      "Successfully installed pygame-2.0.1 python-chess-1.999 reconchess-1.6.8\n",
      "Note: you may need to restart the kernel to use updated packages.\n"
     ]
    }
   ],
   "source": [
    "pip install reconchess"
   ]
  },
  {
   "cell_type": "code",
   "execution_count": null,
   "metadata": {},
   "outputs": [],
   "source": [
    "pip install chess"
   ]
  },
  {
   "cell_type": "code",
   "execution_count": 2,
   "metadata": {},
   "outputs": [],
   "source": [
    "# import MCTS_Chess\n",
    "import time\n",
    "import chess"
   ]
  },
  {
   "cell_type": "code",
   "execution_count": null,
   "metadata": {},
   "outputs": [],
   "source": [
    "from google.colab import drive\n",
    "drive.mount('/content/drive')"
   ]
  },
  {
   "cell_type": "code",
   "execution_count": 13,
   "metadata": {},
   "outputs": [],
   "source": [
    "MCTS_Chess.selfPlay(107,207,\"\")"
   ]
  },
  {
   "cell_type": "code",
   "execution_count": 36,
   "metadata": {},
   "outputs": [
    {
     "name": "stdout",
     "output_type": "stream",
     "text": [
      "3.8955695629119873\n"
     ]
    }
   ],
   "source": [
    "from copy import deepcopy\n",
    "st = time.time()\n",
    "board = chess.Board()\n",
    "h = set()\n",
    "for i in range(100000):\n",
    "    a = board.is_game_over()\n",
    "et = time.time()\n",
    "print(et-st)"
   ]
  },
  {
   "cell_type": "code",
   "execution_count": 34,
   "metadata": {},
   "outputs": [],
   "source": [
    "a"
   ]
  },
  {
   "cell_type": "code",
   "execution_count": 87,
   "metadata": {},
   "outputs": [
    {
     "name": "stdout",
     "output_type": "stream",
     "text": [
      "2.252509355545044\n"
     ]
    }
   ],
   "source": [
    "st = time.time()\n",
    "board = chess.Board()\n",
    "for move in board.legal_moves:\n",
    "    board.push(move)\n",
    "    break\n",
    "h = set()\n",
    "p = True\n",
    "for i in range(41007):\n",
    "    board.turn = p\n",
    "    a = stringify(board.piece_map())\n",
    "    p = not p\n",
    "#     h.add(a)\n",
    "et = time.time()\n",
    "print(et-st)"
   ]
  },
  {
   "cell_type": "code",
   "execution_count": 86,
   "metadata": {},
   "outputs": [
    {
     "name": "stdout",
     "output_type": "stream",
     "text": [
      "RNBQKB.RPPPPPPPP.......N........................pppppppprnbqkbnr\n"
     ]
    },
    {
     "data": {
      "text/plain": [
       "'RNBQKB.RPPPPPPPP.......N........................pppppppprnbqkbnr'"
      ]
     },
     "execution_count": 86,
     "metadata": {},
     "output_type": "execute_result"
    }
   ],
   "source": [
    "board.turn = True\n",
    "print(stringify(board.piece_map()))\n",
    "board.turn = False\n",
    "stringify(board.piece_map())"
   ]
  },
  {
   "cell_type": "code",
   "execution_count": 45,
   "metadata": {},
   "outputs": [],
   "source": [
    "def stringify(p):\n",
    "    s = \"\"\n",
    "    for i in range(64):\n",
    "        if i in p:\n",
    "            s += p[i].symbol()\n",
    "        else:\n",
    "            s += \".\"\n",
    "    return s"
   ]
  },
  {
   "cell_type": "code",
   "execution_count": 29,
   "metadata": {},
   "outputs": [],
   "source": [
    "import chess.pgn\n",
    "from core import Core\n",
    "from chess import Move\n",
    "from collections import defaultdict"
   ]
  },
  {
   "cell_type": "code",
   "execution_count": 31,
   "metadata": {},
   "outputs": [],
   "source": [
    "core = Core(board, None)\n",
    "all_moves_ids = defaultdict(int)\n",
    "ids_all_moves = defaultdict(Move)\n",
    "k = 0\n",
    "for i in range(64):\n",
    "    for j in range(64):\n",
    "        if i != j:\n",
    "            all_moves_ids[Move(i, j)] = k\n",
    "            ids_all_moves[k] = Move(i, j)\n",
    "            k += 1"
   ]
  },
  {
   "cell_type": "code",
   "execution_count": 48,
   "metadata": {},
   "outputs": [],
   "source": [
    "def getEpisodes(game):\n",
    "    episode = []\n",
    "    board = game.board()\n",
    "    player = board.turn\n",
    "    for move in game.mainline_moves():\n",
    "        input_state = core.OHVETransform(board, player)\n",
    "        new_distribution = [0]*len(all_moves_ids)\n",
    "        id_ = all_moves_ids.get(move)\n",
    "        if id_ is None:\n",
    "            move_ = Move(move.from_square, move.to_square)\n",
    "            id_ = all_moves_ids.get(move_)\n",
    "        new_distribution[id_] = 1\n",
    "        episode.append({\"color\": player, \"src\": input_state, \"target\": new_distribution})\n",
    "        board.push(move)\n",
    "        player = not player\n",
    "    white = 0\n",
    "    black = 0\n",
    "    winner = board.result().split(\"-\")[0]\n",
    "    if winner == \"1\":\n",
    "        white = 1\n",
    "        black = -1\n",
    "    if winner == \"0\":\n",
    "        black = 1\n",
    "        white = -1\n",
    "    for ep in episode:\n",
    "        if ep[\"color\"]:\n",
    "            ep[\"target\"].append(white)\n",
    "        else:\n",
    "            ep[\"target\"].append(black)\n",
    "    return episode"
   ]
  },
  {
   "cell_type": "code",
   "execution_count": 35,
   "metadata": {},
   "outputs": [],
   "source": [
    "pgnData = open(\"C:\\\\Users\\\\rvtej\\\\Downloads\\\\ccrl-pgn.tar\\\\ccrl-pgn\\\\cclr\\\\train\\\\1.pgn\")"
   ]
  },
  {
   "cell_type": "code",
   "execution_count": 36,
   "metadata": {},
   "outputs": [],
   "source": [
    "pgnContent = chess.pgn.read_game(pgnData)"
   ]
  },
  {
   "cell_type": "code",
   "execution_count": 54,
   "metadata": {},
   "outputs": [],
   "source": [
    "games = []\n",
    "p = \"init\"\n",
    "while p:\n",
    "    p = chess.pgn.read_game(pgnData)\n",
    "    games.append(p)"
   ]
  },
  {
   "cell_type": "code",
   "execution_count": 55,
   "metadata": {},
   "outputs": [
    {
     "data": {
      "text/plain": [
       "7999"
      ]
     },
     "execution_count": 55,
     "metadata": {},
     "output_type": "execute_result"
    }
   ],
   "source": [
    "len(games)"
   ]
  },
  {
   "cell_type": "code",
   "execution_count": 49,
   "metadata": {},
   "outputs": [],
   "source": [
    "ep = getEpisodes(games[0])"
   ]
  },
  {
   "cell_type": "code",
   "execution_count": 50,
   "metadata": {},
   "outputs": [
    {
     "data": {
      "text/plain": [
       "87"
      ]
     },
     "execution_count": 50,
     "metadata": {},
     "output_type": "execute_result"
    }
   ],
   "source": [
    "len(ep)"
   ]
  },
  {
   "cell_type": "code",
   "execution_count": 53,
   "metadata": {},
   "outputs": [
    {
     "data": {
      "text/plain": [
       "<Mainline at 0x25236012490 (1. Nf3 Nf6 2. c4 c5 3. Nc3 d5 4. cxd5 Nxd5 5. d4 e6 6. e4 Nxc3 7. bxc3 cxd4 8. cxd4 Nc6 9. Rb1 Qa5+ 10. Bd2 Qxa2 11. Bc3 Qa3 12. Rb3 Qe7 13. Bb5 Bd7 14. O-O a6 15. Qa1 f6 16. Bd3 Nd8 17. d5 Qd6 18. Bb4 Qb6 19. Qb1 Bxb4 20. Rxb4 Qd6 21. Rb6 Qf4 22. e5 fxe5 23. Re1 O-O 24. Bxh7+ Kh8 25. Re4 Qf6 26. Rh4 Rc8 27. Rh5 Qf4 28. Bc2+ Kg8 29. dxe6 Bxe6 30. Rxe6 Rxc2 31. Qxc2 Nxe6 32. Qh7+ Kf7 33. Rf5+ Ke7 34. Rxf4 Rxf4 35. Nxe5 Kd6 36. g3 Rd4 37. f4 b5 38. Qg6 Rd5 39. Qe8 Rd1+ 40. Kf2 Nd4 41. Qg6+ Kc5 42. Nd3+ Rxd3 43. Qxd3 b4 44. Qxa6)>"
      ]
     },
     "execution_count": 53,
     "metadata": {},
     "output_type": "execute_result"
    }
   ],
   "source": [
    "games[0].mainline_moves()"
   ]
  },
  {
   "cell_type": "code",
   "execution_count": null,
   "metadata": {},
   "outputs": [],
   "source": []
  }
 ],
 "metadata": {
  "kernelspec": {
   "display_name": "Python 3",
   "language": "python",
   "name": "python3"
  },
  "language_info": {
   "codemirror_mode": {
    "name": "ipython",
    "version": 3
   },
   "file_extension": ".py",
   "mimetype": "text/x-python",
   "name": "python",
   "nbconvert_exporter": "python",
   "pygments_lexer": "ipython3",
   "version": "3.8.5"
  }
 },
 "nbformat": 4,
 "nbformat_minor": 4
}
