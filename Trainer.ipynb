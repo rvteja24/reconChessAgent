{
 "cells": [
  {
   "cell_type": "code",
   "execution_count": null,
   "metadata": {},
   "outputs": [],
   "source": [
    "import numpy as np\n",
    "import pickle\n",
    "import tensorflow as tf\n",
    "from tensorflow.keras import Sequential, Model, models, optimizers\n",
    "from tensorflow.keras.losses import binary_crossentropy, categorical_crossentropy, mean_squared_error\n",
    "from tensorflow import concat, square, reduce_sum\n",
    "from tensorflow.keras.layers import Dense, Flatten, ReLU, Input, Conv2D, BatchNormalization, Add\n",
    "from tensorflow.keras.activations import relu, softmax, tanh\n",
    "import os\n",
    "from sklearn.utils import shuffle"
   ]
  },
  {
   "cell_type": "code",
   "execution_count": 4,
   "metadata": {},
   "outputs": [],
   "source": [
    "episodes = os.listdir(\"C:\\\\Users\\\\rvtej\\\\Documents\\\\Summer2021\\\\reconChessAgent\\\\episodes\")"
   ]
  },
  {
   "cell_type": "code",
   "execution_count": null,
   "metadata": {},
   "outputs": [],
   "source": [
    "episodes_X = []\n",
    "episodes_Y1 = []\n",
    "episodes_Y2 = []\n",
    "for each in episodes:\n",
    "    with open(\"episodes//\"+each, \"rb\") as handle:\n",
    "        episode = pickle.load(handle)\n",
    "        for each in episode:\n",
    "            src = each[\"src\"]\n",
    "            target1 = np.array(each[\"target\"][:-1])\n",
    "            target2 = each[\"target\"][-1:]\n",
    "            episodes_X.append(src)\n",
    "            episodes_Y1.append(target1)\n",
    "            episodes_Y2.append(target2)      "
   ]
  },
  {
   "cell_type": "code",
   "execution_count": 3,
   "metadata": {},
   "outputs": [],
   "source": [
    "ep_y1 = np.array(episodes_Y1)\n",
    "ep_y2 = np.array(episodes_Y2)"
   ]
  },
  {
   "cell_type": "code",
   "execution_count": 4,
   "metadata": {},
   "outputs": [],
   "source": [
    "# episodes_Y = np.array(episodes_Y)\n",
    "episodes_X = np.array(episodes_X)"
   ]
  },
  {
   "cell_type": "code",
   "execution_count": 5,
   "metadata": {},
   "outputs": [],
   "source": [
    "# episodes_X[:2]"
   ]
  },
  {
   "cell_type": "code",
   "execution_count": 6,
   "metadata": {},
   "outputs": [
    {
     "name": "stdout",
     "output_type": "stream",
     "text": [
      "WARNING:tensorflow:No training configuration found in save file, so the model was *not* compiled. Compile it manually.\n"
     ]
    }
   ],
   "source": [
    "current_best = models.load_model(\"base_model1\")"
   ]
  },
  {
   "cell_type": "code",
   "execution_count": 7,
   "metadata": {},
   "outputs": [],
   "source": [
    "def customLoss(y_true, y_pred):\n",
    "    regressionLoss = reduce_sum(tf.math.square(tf.math.subtract(y_true[:, -1:], y_pred[:, -1:])))\n",
    "    categoricalLoss = reduce_sum(categorical_crossentropy(y_true[:, :-1], y_pred[:, :-1]))\n",
    "    totalLoss = regressionLoss - categoricalLoss\n",
    "    print(totalLoss)\n",
    "    return totalLoss"
   ]
  },
  {
   "cell_type": "code",
   "execution_count": 8,
   "metadata": {},
   "outputs": [],
   "source": [
    "# customLoss(np.array([[0,1]],dtype=\"int32\"),np.array([[0.5,2]], dtype=\"int32\"))"
   ]
  },
  {
   "cell_type": "code",
   "execution_count": 9,
   "metadata": {},
   "outputs": [],
   "source": [
    "opt = optimizers.Adam(learning_rate=0.0001)"
   ]
  },
  {
   "cell_type": "code",
   "execution_count": 10,
   "metadata": {},
   "outputs": [],
   "source": [
    "current_best.compile(optimizer=opt, loss=[\"binary_crossentropy\",\"mean_squared_error\"],metrics=[\"accuracy\"])"
   ]
  },
  {
   "cell_type": "code",
   "execution_count": 11,
   "metadata": {},
   "outputs": [
    {
     "data": {
      "text/plain": [
       "<tensorflow.python.keras.saving.saved_model.load.ChessModel at 0x20955c63910>"
      ]
     },
     "execution_count": 11,
     "metadata": {},
     "output_type": "execute_result"
    }
   ],
   "source": [
    "current_best"
   ]
  },
  {
   "cell_type": "code",
   "execution_count": 12,
   "metadata": {},
   "outputs": [
    {
     "name": "stdout",
     "output_type": "stream",
     "text": [
      "Epoch 1/7\n",
      "71/71 [==============================] - 58s 582ms/step - loss: 0.5683 - output_1_loss: 0.0023 - output_2_loss: 0.2491 - output_1_accuracy: 4.5730e-04 - output_2_accuracy: 0.7783\n",
      "Epoch 2/7\n",
      "71/71 [==============================] - 36s 514ms/step - loss: 0.3175 - output_1_loss: 0.0023 - output_2_loss: 0.0176 - output_1_accuracy: 8.9681e-04 - output_2_accuracy: 0.9707\n",
      "Epoch 3/7\n",
      "71/71 [==============================] - 37s 514ms/step - loss: 0.2961 - output_1_loss: 0.0023 - output_2_loss: 0.0092 - output_1_accuracy: 0.0011 - output_2_accuracy: 0.9742\n",
      "Epoch 4/7\n",
      "71/71 [==============================] - 37s 517ms/step - loss: 0.2853 - output_1_loss: 0.0023 - output_2_loss: 0.0069 - output_1_accuracy: 0.0018 - output_2_accuracy: 0.9771\n",
      "Epoch 5/7\n",
      "71/71 [==============================] - 37s 514ms/step - loss: 0.2780 - output_1_loss: 0.0023 - output_2_loss: 0.0056 - output_1_accuracy: 0.0027 - output_2_accuracy: 0.9764\n",
      "Epoch 6/7\n",
      "71/71 [==============================] - 36s 514ms/step - loss: 0.2728 - output_1_loss: 0.0023 - output_2_loss: 0.0047 - output_1_accuracy: 0.0031 - output_2_accuracy: 0.9770\n",
      "Epoch 7/7\n",
      "71/71 [==============================] - 37s 516ms/step - loss: 0.2684 - output_1_loss: 0.0023 - output_2_loss: 0.0039 - output_1_accuracy: 0.0034 - output_2_accuracy: 0.9764\n"
     ]
    },
    {
     "data": {
      "text/plain": [
       "<tensorflow.python.keras.callbacks.History at 0x208e10758b0>"
      ]
     },
     "execution_count": 12,
     "metadata": {},
     "output_type": "execute_result"
    }
   ],
   "source": [
    "current_best.fit(x=episodes_X, y=[ep_y1, ep_y2], epochs=7, batch_size=512, verbose=1)"
   ]
  },
  {
   "cell_type": "code",
   "execution_count": 13,
   "metadata": {},
   "outputs": [
    {
     "name": "stderr",
     "output_type": "stream",
     "text": [
      "WARNING:absl:Found untraced functions such as dense_layer_call_fn, dense_layer_call_and_return_conditional_losses, dense_1_layer_call_fn, dense_1_layer_call_and_return_conditional_losses, conv2d_layer_call_fn while saving (showing 5 of 75). These functions will not be directly callable after loading.\n",
      "WARNING:absl:Found untraced functions such as dense_layer_call_fn, dense_layer_call_and_return_conditional_losses, dense_1_layer_call_fn, dense_1_layer_call_and_return_conditional_losses, conv2d_layer_call_fn while saving (showing 5 of 75). These functions will not be directly callable after loading.\n"
     ]
    },
    {
     "name": "stdout",
     "output_type": "stream",
     "text": [
      "INFO:tensorflow:Assets written to: base_model1\\assets\n"
     ]
    },
    {
     "name": "stderr",
     "output_type": "stream",
     "text": [
      "INFO:tensorflow:Assets written to: base_model1\\assets\n"
     ]
    }
   ],
   "source": [
    "current_best.save(\"base_model2\")"
   ]
  }
 ],
 "metadata": {
  "kernelspec": {
   "display_name": "Python 3",
   "language": "python",
   "name": "python3"
  },
  "language_info": {
   "codemirror_mode": {
    "name": "ipython",
    "version": 3
   },
   "file_extension": ".py",
   "mimetype": "text/x-python",
   "name": "python",
   "nbconvert_exporter": "python",
   "pygments_lexer": "ipython3",
   "version": "3.8.5"
  }
 },
 "nbformat": 4,
 "nbformat_minor": 4
}
