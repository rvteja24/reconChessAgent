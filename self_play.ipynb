{
 "cells": [
  {
   "cell_type": "code",
   "execution_count": 4,
   "metadata": {},
   "outputs": [
    {
     "name": "stdout",
     "output_type": "stream",
     "text": [
      "Collecting reconchess\n",
      "  Using cached reconchess-1.6.8-py3-none-any.whl (63 kB)\n",
      "Collecting python-chess>=0.31.0\n",
      "  Using cached python_chess-1.999-py3-none-any.whl (1.4 kB)\n",
      "Requirement already satisfied: lxml in c:\\programdata\\anaconda3\\lib\\site-packages (from reconchess) (4.6.1)\n",
      "Collecting pygame\n",
      "  Downloading pygame-2.0.1-cp38-cp38-win_amd64.whl (5.2 MB)\n",
      "Requirement already satisfied: requests in c:\\programdata\\anaconda3\\lib\\site-packages (from reconchess) (2.24.0)\n",
      "Requirement already satisfied: chess<2,>=1 in c:\\programdata\\anaconda3\\lib\\site-packages (from python-chess>=0.31.0->reconchess) (1.6.1)\n",
      "Requirement already satisfied: certifi>=2017.4.17 in c:\\programdata\\anaconda3\\lib\\site-packages (from requests->reconchess) (2020.6.20)\n",
      "Requirement already satisfied: urllib3!=1.25.0,!=1.25.1,<1.26,>=1.21.1 in c:\\programdata\\anaconda3\\lib\\site-packages (from requests->reconchess) (1.25.11)\n",
      "Requirement already satisfied: idna<3,>=2.5 in c:\\programdata\\anaconda3\\lib\\site-packages (from requests->reconchess) (2.10)\n",
      "Requirement already satisfied: chardet<4,>=3.0.2 in c:\\programdata\\anaconda3\\lib\\site-packages (from requests->reconchess) (3.0.4)\n",
      "Installing collected packages: python-chess, pygame, reconchess\n",
      "Successfully installed pygame-2.0.1 python-chess-1.999 reconchess-1.6.8\n",
      "Note: you may need to restart the kernel to use updated packages.\n"
     ]
    }
   ],
   "source": [
    "pip install reconchess"
   ]
  },
  {
   "cell_type": "code",
   "execution_count": null,
   "metadata": {},
   "outputs": [],
   "source": [
    "pip install chess"
   ]
  },
  {
   "cell_type": "code",
   "execution_count": 2,
   "metadata": {},
   "outputs": [],
   "source": [
    "# import MCTS_Chess\n",
    "import time\n",
    "import chess"
   ]
  },
  {
   "cell_type": "code",
   "execution_count": null,
   "metadata": {},
   "outputs": [],
   "source": [
    "from google.colab import drive\n",
    "drive.mount('/content/drive')"
   ]
  },
  {
   "cell_type": "code",
   "execution_count": 13,
   "metadata": {},
   "outputs": [],
   "source": [
    "MCTS_Chess.selfPlay(107,207,\"\")"
   ]
  },
  {
   "cell_type": "code",
   "execution_count": 36,
   "metadata": {},
   "outputs": [
    {
     "name": "stdout",
     "output_type": "stream",
     "text": [
      "3.8955695629119873\n"
     ]
    }
   ],
   "source": [
    "from copy import deepcopy\n",
    "st = time.time()\n",
    "board = chess.Board()\n",
    "h = set()\n",
    "for i in range(100000):\n",
    "    a = board.is_game_over()\n",
    "et = time.time()\n",
    "print(et-st)"
   ]
  },
  {
   "cell_type": "code",
   "execution_count": 34,
   "metadata": {},
   "outputs": [],
   "source": [
    "a"
   ]
  },
  {
   "cell_type": "code",
   "execution_count": 87,
   "metadata": {},
   "outputs": [
    {
     "name": "stdout",
     "output_type": "stream",
     "text": [
      "2.252509355545044\n"
     ]
    }
   ],
   "source": [
    "st = time.time()\n",
    "board = chess.Board()\n",
    "for move in board.legal_moves:\n",
    "    board.push(move)\n",
    "    break\n",
    "h = set()\n",
    "p = True\n",
    "for i in range(41007):\n",
    "    board.turn = p\n",
    "    a = stringify(board.piece_map())\n",
    "    p = not p\n",
    "#     h.add(a)\n",
    "et = time.time()\n",
    "print(et-st)"
   ]
  },
  {
   "cell_type": "code",
   "execution_count": 86,
   "metadata": {},
   "outputs": [
    {
     "name": "stdout",
     "output_type": "stream",
     "text": [
      "RNBQKB.RPPPPPPPP.......N........................pppppppprnbqkbnr\n"
     ]
    },
    {
     "data": {
      "text/plain": [
       "'RNBQKB.RPPPPPPPP.......N........................pppppppprnbqkbnr'"
      ]
     },
     "execution_count": 86,
     "metadata": {},
     "output_type": "execute_result"
    }
   ],
   "source": [
    "board.turn = True\n",
    "print(stringify(board.piece_map()))\n",
    "board.turn = False\n",
    "stringify(board.piece_map())"
   ]
  },
  {
   "cell_type": "code",
   "execution_count": 45,
   "metadata": {},
   "outputs": [],
   "source": [
    "def stringify(p):\n",
    "    s = \"\"\n",
    "    for i in range(64):\n",
    "        if i in p:\n",
    "            s += p[i].symbol()\n",
    "        else:\n",
    "            s += \".\"\n",
    "    return s"
   ]
  },
  {
   "cell_type": "code",
   "execution_count": null,
   "metadata": {},
   "outputs": [],
   "source": []
  }
 ],
 "metadata": {
  "kernelspec": {
   "display_name": "Python 3",
   "language": "python",
   "name": "python3"
  },
  "language_info": {
   "codemirror_mode": {
    "name": "ipython",
    "version": 3
   },
   "file_extension": ".py",
   "mimetype": "text/x-python",
   "name": "python",
   "nbconvert_exporter": "python",
   "pygments_lexer": "ipython3",
   "version": "3.8.5"
  }
 },
 "nbformat": 4,
 "nbformat_minor": 4
}
